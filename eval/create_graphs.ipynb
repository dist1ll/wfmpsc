{
 "cells": [
  {
   "cell_type": "code",
   "execution_count": 168,
   "id": "25763174",
   "metadata": {},
   "outputs": [],
   "source": [
    "import numpy as np\n",
    "import matplotlib.pyplot as plt\n",
    "\n",
    "report = ''\n",
    "with open('report.txt', 'r') as f:\n",
    "    report = f.read().split('\\n')\n",
    "\n",
    "prim_cmp = []\n",
    "q_set = []\n",
    "p_set = []\n",
    "d_set = []\n",
    "c_set = []\n",
    "\n",
    "for line in report:\n",
    "    if line == '':\n",
    "        continue\n",
    "    cat = line.split('_')\n",
    "    prim_cmp += [cat[0]]\n",
    "    q_set += [cat[1]]\n",
    "    p_set += [cat[2]]\n",
    "    d_set += [cat[3]]\n",
    "    c_set += [cat[4].split(';')[0]]\n",
    "\n",
    "prim_cmp = list(dict.fromkeys(prim_cmp))\n",
    "q_set = list(dict.fromkeys(q_set))\n",
    "p_set = list(dict.fromkeys(p_set))\n",
    "d_set = list(dict.fromkeys(d_set))\n",
    "c_set = list(dict.fromkeys(c_set))"
   ]
  },
  {
   "cell_type": "code",
   "execution_count": 209,
   "id": "87b095a0",
   "metadata": {},
   "outputs": [
    {
     "data": {
      "image/png": "[encoded data removed]",
      "text/plain": [
       "<Figure size 640x480 with 4 Axes>"
      ]
     },
     "metadata": {},
     "output_type": "display_data"
    }
   ],
   "source": [
    "feature_0 = prim_cmp # primary feature   (one bars for each)\n",
    "feature_1 = p_set    # secondary feature (one horizontal chart for each)\n",
    "feature_1_label = 'producers' # name of the feature\n",
    "feature_x = q_set    # tertiary feature  (displayed along the x-axis)\n",
    "\n",
    "# returns values [y(px_0), y(px_1), ..., y(px_n)] \n",
    "# for given p0 and p1 features\n",
    "def get_values_y(p0, p1, px):\n",
    "    res = []\n",
    "    for p in px:\n",
    "        res += [[x for x in report if p0 in x and p1 in x and p in x]]  \n",
    "    ys = []\n",
    "    for r in res:\n",
    "        tmp = 0\n",
    "        for line in r:\n",
    "            tmp += float(line.split(';')[1]) / len(r)\n",
    "        ys += [tmp]\n",
    "    return ys\n",
    "\n",
    "# ax: rect\n",
    "# cat: categories for bar chart (i.e. ['q8', 'q16', 'q32'])\n",
    "# ys: bars per category \n",
    "def plot_bars(ax, cat, ys):\n",
    "    width = 0.25\n",
    "    x = np.arange(len(cat))\n",
    "    for i in range(len(ys)):\n",
    "        # 0 1 2  - \n",
    "        ax.bar(x + (i - len(ys)/2) * width + width / 2, ys[i], width)\n",
    "        ax.set_xticks(x, [c[1:] for c in cat])\n",
    "\n",
    "\n",
    "fig, axs = plt.subplots(2, len(feature_1))\n",
    "for i in range(0, len(axs[0])):\n",
    "    axs[0, i].set_title(f'{feature_1[i][1:]} {feature_1_label}')\n",
    "    for j in range(1, len(axs)):\n",
    "        axs[j, i].set(yticklabels=[])\n",
    "\n",
    "\n",
    "for idx, c1 in enumerate(feature_1):\n",
    "    ys = [get_values_y(_i, c1, px) for _i in p0]\n",
    "    ax = axs[0, idx]\n",
    "    plot_bars(ax, px, ys)"
   ]
  }
 ],
 "metadata": {
  "kernelspec": {
   "display_name": "Python 3 (ipykernel)",
   "language": "python",
   "name": "python3"
  },
  "language_info": {
   "codemirror_mode": {
    "name": "ipython",
    "version": 3
   },
   "file_extension": ".py",
   "mimetype": "text/x-python",
   "name": "python",
   "nbconvert_exporter": "python",
   "pygments_lexer": "ipython3",
   "version": "3.9.6"
  }
 },
 "nbformat": 4,
 "nbformat_minor": 5
}
