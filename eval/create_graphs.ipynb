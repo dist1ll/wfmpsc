{
 "cells": [
  {
   "cell_type": "code",
   "execution_count": 130,
   "id": "fed36882",
   "metadata": {},
   "outputs": [],
   "source": [
    "import numpy as np\n",
    "import matplotlib.pyplot as plt\n",
    "\n",
    "report = ''\n",
    "with open('report.txt', 'r') as f:\n",
    "    report = f.read().split('\\n')\n",
    "\n",
    "q_set = set()\n",
    "p_set = set()\n",
    "d_set = set()\n",
    "c_set = set()\n",
    "\n",
    "for line in report:\n",
    "    if line == '':\n",
    "        continue\n",
    "    cat = line.split('_')\n",
    "    q_set.add(cat[1])\n",
    "    p_set.add(cat[2])\n",
    "    d_set.add(cat[3])\n",
    "    c_set.add(cat[4].split(';')[0])"
   ]
  },
  {
   "cell_type": "code",
   "execution_count": null,
   "id": "b6a978f7",
   "metadata": {},
   "outputs": [],
   "source": [
    "\n",
    "hc_param = list(map(lambda x: x[1:], list(p_set)))\n",
    "hc_param.reverse()\n",
    "hc_suffix = 'producers'\n",
    "hc_len = len(hc_param)\n",
    "\n",
    "fig, axs = plt.subplots(2, hc_len)\n",
    "print(axs)\n",
    "for i in range(0, hc_len):\n",
    "    axs[0, i].set_title(f'{hc_param[i]} {hc_suffix}')\n",
    "    for j in range(1, len(axs)):\n",
    "        axs[j, i].set(yticklabels=[])\n",
    "    \n",
    "\n",
    "# ax: rect\n",
    "# cat: categories for bar chart\n",
    "# ys: bars per category \n",
    "def plot_bars(ax, cat, ys):\n",
    "    width = 0.25\n",
    "    x = np.arange(len(cat))\n",
    "    for i in range(len(ys)):\n",
    "        # 0 1 2  - \n",
    "        ax.bar(x + (i - len(ys)/2) * width + width / 2, ys[i], width)\n",
    "        ax.set_xticks(x, cat)\n",
    "    \n",
    "# turn into function\n",
    "# parameters\n",
    "ax = axs[0, 0]\n",
    "cat = list(q_set)\n",
    "cat.reverse()\n",
    "ys = [np.random.rand(len(cat)), np.random.rand(len(cat))]\n",
    "\n",
    "plot_bars(ax, cat, ys)"
   ]
  }
 ],
 "metadata": {
  "kernelspec": {
   "display_name": "Python 3 (ipykernel)",
   "language": "python",
   "name": "python3"
  },
  "language_info": {
   "codemirror_mode": {
    "name": "ipython",
    "version": 3
   },
   "file_extension": ".py",
   "mimetype": "text/x-python",
   "name": "python",
   "nbconvert_exporter": "python",
   "pygments_lexer": "ipython3",
   "version": "3.9.6"
  }
 },
 "nbformat": 4,
 "nbformat_minor": 5
}
